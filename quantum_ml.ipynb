{
  "nbformat": 4,
  "nbformat_minor": 0,
  "metadata": {
    "colab": {
      "name": "quantum_ml.ipynb",
      "provenance": [],
      "authorship_tag": "ABX9TyNSuXQqt6NjkwAAG9QWjCKY",
      "include_colab_link": true
    },
    "kernelspec": {
      "name": "python3",
      "display_name": "Python 3"
    },
    "language_info": {
      "name": "python"
    }
  },
  "cells": [
    {
      "cell_type": "markdown",
      "metadata": {
        "id": "view-in-github",
        "colab_type": "text"
      },
      "source": [
        "<a href=\"https://colab.research.google.com/github/programmingthegod/machine-learning/blob/main/quantum_ml.ipynb\" target=\"_parent\"><img src=\"https://colab.research.google.com/assets/colab-badge.svg\" alt=\"Open In Colab\"/></a>"
      ]
    },
    {
      "cell_type": "markdown",
      "source": [
        "Quantum Machine Learning or QML deals with more accurate machine learning models made using Quantum Computing."
      ],
      "metadata": {
        "id": "CfrmyzXKTUcG"
      }
    }
  ]
}